{
 "cells": [
  {
   "cell_type": "code",
   "execution_count": null,
   "metadata": {},
   "outputs": [],
   "source": [
    "import matplotlib.pyplot as plt\n",
    "from subprocess import Popen, PIPE\n",
    "from shutil import copyfileobj\n",
    "import numpy as np\n",
    "from math import sqrt"
   ]
  },
  {
   "cell_type": "code",
   "execution_count": null,
   "metadata": {},
   "outputs": [],
   "source": [
    "def create_uniform_clusters(n):\n",
    "    limit = int(sqrt(n/2))\n",
    "    points = []\n",
    "    for i in range(1, limit + 1):\n",
    "        for j in range(1, limit + 1):\n",
    "            points.append([i, j])\n",
    "            points.append([limit + i + 6, j])\n",
    "    return points"
   ]
  },
  {
   "cell_type": "code",
   "execution_count": null,
   "metadata": {},
   "outputs": [],
   "source": [
    "def create_low_dispersion_clusters(n):\n",
    "    points = create_uniform_clusters(n)\n",
    "    X_jitter = np.random.normal(0, 0.1, len(points))\n",
    "    Y_jitter = np.random.normal(0, 0.1, len(points))\n",
    "    for i in range(len(points)):\n",
    "        points[i][0] += X_jitter[i]\n",
    "        points[i][1] += Y_jitter[i]\n",
    "    return points"
   ]
  },
  {
   "cell_type": "code",
   "execution_count": null,
   "metadata": {},
   "outputs": [],
   "source": [
    "def create_high_dispersion_clusters(n):\n",
    "    points = create_uniform_clusters(n)\n",
    "    X_jitter = np.random.normal(0, 1.0, len(points))\n",
    "    Y_jitter = np.random.normal(0, 1.0, len(points))\n",
    "    for i in range(len(points)):\n",
    "        points[i][0] += X_jitter[i]\n",
    "        points[i][1] += Y_jitter[i]\n",
    "    return points"
   ]
  },
  {
   "cell_type": "code",
   "execution_count": null,
   "metadata": {},
   "outputs": [],
   "source": [
    "def points_to_input(points):\n",
    "    str_input = str(len(points)) + '\\n'\n",
    "    for point in points:\n",
    "        str_input += str(point[0]) + ' ' + str(point[1]) + '\\n'\n",
    "    return str_input"
   ]
  },
  {
   "cell_type": "code",
   "execution_count": null,
   "metadata": {},
   "outputs": [],
   "source": [
    "test = create_low_dispersion_clusters(1000)\n",
    "test = np.array(test)\n",
    "X = test[:,0]\n",
    "Y = test[:,1]\n",
    "plt.scatter(X, Y)\n",
    "plt.show()\n",
    "print(len(test))"
   ]
  },
  {
   "cell_type": "code",
   "execution_count": null,
   "metadata": {},
   "outputs": [],
   "source": [
    "test_input = points_to_input(test)\n",
    "#print(test_input)"
   ]
  },
  {
   "cell_type": "code",
   "execution_count": null,
   "metadata": {},
   "outputs": [],
   "source": [
    "executablePath = '../../clustering'\n",
    "mstMode = 'Prim'\n",
    "inconsistencyModeRange = ['StandardDeviation', 'Factor']\n",
    "neighborhoodDepthRange = ['3']\n",
    "inconsistencyParameterRange = [str(x) for x in np.linspace(2, 5, 11)]"
   ]
  },
  {
   "cell_type": "code",
   "execution_count": null,
   "metadata": {},
   "outputs": [],
   "source": [
    "for inconsistencyMode in inconsistencyModeRange:\n",
    "    for neighborhoodDepth in neighborhoodDepthRange:\n",
    "        for inconsistencyParameter in inconsistencyParameterRange:\n",
    "            with Popen([executablePath, mstMode, inconsistencyMode, neighborhoodDepth, inconsistencyParameter], stdin=PIPE, stdout=PIPE) as proc:\n",
    "                proc.stdin.write(test_input.encode('UTF-8'))\n",
    "                proc.stdin.flush()\n",
    "                output = proc.stdout.read().decode('UTF-8')\n",
    "            C = [int(x) for x in output.split()]\n",
    "            clusters = len(set(C))\n",
    "            scatter = plt.scatter(X, Y, c=C)\n",
    "            plt.title('MST={0}, Inconsistency={1}({3}), Neighborhood depth={2}, Clusters={4}'.format(mstMode, inconsistencyMode, neighborhoodDepth, inconsistencyParameter, clusters))\n",
    "            plt.colorbar(scatter)\n",
    "            plt.show()\n",
    "#print(C[:10])"
   ]
  },
  {
   "cell_type": "code",
   "execution_count": null,
   "metadata": {},
   "outputs": [],
   "source": []
  }
 ],
 "metadata": {
  "kernelspec": {
   "display_name": "Python 3",
   "language": "python",
   "name": "python3"
  },
  "language_info": {
   "codemirror_mode": {
    "name": "ipython",
    "version": 3
   },
   "file_extension": ".py",
   "mimetype": "text/x-python",
   "name": "python",
   "nbconvert_exporter": "python",
   "pygments_lexer": "ipython3",
   "version": "3.7.0"
  }
 },
 "nbformat": 4,
 "nbformat_minor": 2
}
