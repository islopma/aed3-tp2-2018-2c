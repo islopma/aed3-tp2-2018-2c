{
 "cells": [
  {
   "cell_type": "code",
   "execution_count": 16,
   "metadata": {},
   "outputs": [],
   "source": [
    "import numpy as np\n",
    "import matplotlib.pyplot as plt\n",
    "import random\n",
    "import os\n",
    "from subprocess import Popen, PIPE\n",
    "import pickle"
   ]
  },
  {
   "cell_type": "code",
   "execution_count": 2,
   "metadata": {},
   "outputs": [],
   "source": [
    "def create_test_case_big_cycle(n):\n",
    "    assert n <= 1000\n",
    "    res = np.array([[0.25]*n]*n)\n",
    "    for i in range(n):\n",
    "        res[i, i] = 1\n",
    "        res[i, (i+1)%n] = 1.001\n",
    "    return str(n) + '\\n'+'\\n'.join(' '.join(map(str, l)) for l in res) + '\\n'"
   ]
  },
  {
   "cell_type": "code",
   "execution_count": 32,
   "metadata": {},
   "outputs": [],
   "source": [
    "def create_test_case_cycle(n, sz):\n",
    "    assert n <= 1000\n",
    "    res = np.array([[0.25]*n]*n)\n",
    "    for i in range(n):\n",
    "        res[i, i] = 1\n",
    "    cycle = random.sample(range(n), sz)\n",
    "    for i, j in zip(cycle, cycle[1:]+cycle[:1]):\n",
    "        res[i, j] = 1.001\n",
    "    return str(n) + '\\n'+'\\n'.join(' '.join(map(str, l)) for l in res) + '\\n'"
   ]
  },
  {
   "cell_type": "code",
   "execution_count": 33,
   "metadata": {},
   "outputs": [
    {
     "name": "stdout",
     "output_type": "stream",
     "text": [
      "5\n",
      "1.0 1.001 0.25 0.25 0.25\n",
      "0.25 1.0 0.25 0.25 1.001\n",
      "0.25 0.25 1.0 0.25 0.25\n",
      "1.001 0.25 0.25 1.0 0.25\n",
      "0.25 0.25 0.25 1.001 1.0\n",
      "\n"
     ]
    }
   ],
   "source": [
    "test = create_test_case_cycle(5, 4)\n",
    "print(test)"
   ]
  },
  {
   "cell_type": "code",
   "execution_count": 34,
   "metadata": {},
   "outputs": [],
   "source": [
    "base_dir = os.path.join(get_ipython().starting_dir, '..', '..')"
   ]
  },
  {
   "cell_type": "code",
   "execution_count": 44,
   "metadata": {},
   "outputs": [],
   "source": [
    "exec_file = [os.path.join(base_dir, 'arbitraje_time'), 'FloydWarshall']"
   ]
  },
  {
   "cell_type": "code",
   "execution_count": 45,
   "metadata": {},
   "outputs": [
    {
     "name": "stdout",
     "output_type": "stream",
     "text": [
      "n: 975 sz: 926           "
     ]
    }
   ],
   "source": [
    "results = {}\n",
    "results_arr = []\n",
    "for n in range(25, 1000, 25):\n",
    "    results[n] = []\n",
    "    for i in range(20):\n",
    "        sz = i * n//20\n",
    "        print('\\rn:', n, 'sz:', sz, ' '*10, end='')\n",
    "        with Popen(exec_file, stdin=PIPE, stdout=PIPE) as proc:\n",
    "            proc.stdin.write(create_test_case_cycle(n, sz).encode('UTF-8'))\n",
    "            proc.stdin.flush()\n",
    "            ticks = int(proc.stdout.read().decode('UTF-8')) \n",
    "            results[n].append(ticks)\n",
    "            results_arr.append([n, ticks])"
   ]
  },
  {
   "cell_type": "code",
   "execution_count": 46,
   "metadata": {},
   "outputs": [],
   "source": [
    "with open(os.path.join(base_dir, 'FloydWarshall_cycle.pickle'), 'wb') as f:\n",
    "    pickle.dump(results_arr, f)"
   ]
  },
  {
   "cell_type": "code",
   "execution_count": 43,
   "metadata": {},
   "outputs": [
    {
     "data": {
      "text/plain": [
       "[<matplotlib.lines.Line2D at 0x7fbd60374f28>]"
      ]
     },
     "execution_count": 43,
     "metadata": {},
     "output_type": "execute_result"
    },
    {
     "data": {
      "image/png": "[encoded data removed]",
      "text/plain": [
       "<matplotlib.figure.Figure at 0x7fbd603b9438>"
      ]
     },
     "metadata": {},
     "output_type": "display_data"
    }
   ],
   "source": [
    "plt.plot(*zip(*results_arr))"
   ]
  },
  {
   "cell_type": "code",
   "execution_count": null,
   "metadata": {},
   "outputs": [],
   "source": []
  }
 ],
 "metadata": {
  "kernelspec": {
   "display_name": "Python 3",
   "language": "python",
   "name": "python3"
  },
  "language_info": {
   "codemirror_mode": {
    "name": "ipython",
    "version": 3
   },
   "file_extension": ".py",
   "mimetype": "text/x-python",
   "name": "python",
   "nbconvert_exporter": "python",
   "pygments_lexer": "ipython3",
   "version": "3.5.2"
  }
 },
 "nbformat": 4,
 "nbformat_minor": 2
}
